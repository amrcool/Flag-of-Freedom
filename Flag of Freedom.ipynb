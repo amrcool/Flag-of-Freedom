{
 "cells": [
  {
   "cell_type": "code",
   "execution_count": 14,
   "id": "b7bbb77c",
   "metadata": {},
   "outputs": [],
   "source": [
    "from PIL import Image, ImageDraw\n",
    "import math\n",
    "import matplotlib.pyplot as plt"
   ]
  },
  {
   "cell_type": "code",
   "execution_count": 2,
   "id": "4d791d0f",
   "metadata": {},
   "outputs": [],
   "source": [
    "# Dimensions for the flag\n",
    "width, height = 300, 150\n",
    "stripe_height = height // 3 "
   ]
  },
  {
   "cell_type": "code",
   "execution_count": 3,
   "id": "7e37a84e",
   "metadata": {},
   "outputs": [],
   "source": [
    "# Create a blank image with a white background\n",
    "image = Image.new(\"RGB\", (width, height), \"white\")\n",
    "draw = ImageDraw.Draw(image)"
   ]
  },
  {
   "cell_type": "code",
   "execution_count": 4,
   "id": "6ff4724c",
   "metadata": {},
   "outputs": [],
   "source": [
    "# Draw the green stripe (top)\n",
    "draw.rectangle([0, 0, width, stripe_height], fill=(0, 128, 0))  # Green stripe\n"
   ]
  },
  {
   "cell_type": "code",
   "execution_count": 5,
   "id": "e08791fd",
   "metadata": {},
   "outputs": [],
   "source": [
    "# Draw the white stripe (middle)\n",
    "draw.rectangle([0, stripe_height, width, 2 * stripe_height], fill=(255, 255, 255))  # White stripe\n"
   ]
  },
  {
   "cell_type": "code",
   "execution_count": 6,
   "id": "9b1a96a4",
   "metadata": {},
   "outputs": [],
   "source": [
    "# Draw the black stripe (bottom)\n",
    "draw.rectangle([0, 2 * stripe_height, width, height], fill=(0, 0, 0))  # Black stripe\n"
   ]
  },
  {
   "cell_type": "code",
   "execution_count": 7,
   "id": "9a195553",
   "metadata": {},
   "outputs": [],
   "source": [
    "def draw_star(draw, center, radius, color):\n",
    "    \"\"\"Draw a 5-pointed star.\"\"\"\n",
    "    x, y = center\n",
    "    points = []\n",
    "    for i in range(10):  # 10 points for alternating outer and inner vertices\n",
    "        angle = math.radians(i * 36 - 90)  # Start at the top of the star (-90 degrees)\n",
    "        if i % 2 == 0:  # Outer vertex\n",
    "            r = radius\n",
    "        else:  # Inner vertex\n",
    "            r = radius / 2.5\n",
    "        points.append((x + r * math.cos(angle), y + r * math.sin(angle)))\n",
    "    draw.polygon(points, fill=color)\n"
   ]
  },
  {
   "cell_type": "code",
   "execution_count": 8,
   "id": "05ec9c76",
   "metadata": {},
   "outputs": [],
   "source": [
    "# Draw the three red stars in the middle stripe\n",
    "star_radius = 15\n",
    "star_spacing = width // 4\n",
    "star_y = stripe_height + stripe_height // 2  # Center of the white stripe\n",
    "\n",
    "for i in range(3):\n",
    "    star_x = (i + 1) * star_spacing\n",
    "    draw_star(draw, (star_x, star_y), star_radius, (255, 0, 0))"
   ]
  },
  {
   "cell_type": "code",
   "execution_count": 17,
   "id": "06625963",
   "metadata": {},
   "outputs": [
    {
     "data": {
      "image/png": "[encoded data removed]",
      "text/plain": [
       "<Figure size 800x400 with 1 Axes>"
      ]
     },
     "metadata": {},
     "output_type": "display_data"
    }
   ],
   "source": [
    "\n",
    "\n",
    "# Save and show the flag\n",
    "\n",
    "# enter your path here:\n",
    "# flag_path = 'enter your path here'\n",
    "# image.save(flag_path)\n",
    "# image.show()\n",
    "\n",
    "# flag_path\n",
    "\n",
    "# Display the flag using matplotlib\n",
    "plt.figure(figsize=(8, 4))\n",
    "plt.imshow(image)\n",
    "plt.axis('off')  # Hide axes\n",
    "plt.show()"
   ]
  },
  {
   "cell_type": "code",
   "execution_count": null,
   "id": "e873a87c",
   "metadata": {},
   "outputs": [],
   "source": []
  }
 ],
 "metadata": {
  "kernelspec": {
   "display_name": "Python 3 (ipykernel)",
   "language": "python",
   "name": "python3"
  },
  "language_info": {
   "codemirror_mode": {
    "name": "ipython",
    "version": 3
   },
   "file_extension": ".py",
   "mimetype": "text/x-python",
   "name": "python",
   "nbconvert_exporter": "python",
   "pygments_lexer": "ipython3",
   "version": "3.12.3"
  }
 },
 "nbformat": 4,
 "nbformat_minor": 5
}
